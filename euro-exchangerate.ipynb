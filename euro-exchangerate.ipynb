{
 "cells": [
  {
   "cell_type": "code",
   "execution_count": 1,
   "id": "a222a5d8",
   "metadata": {
    "_cell_guid": "b1076dfc-b9ad-4769-8c92-a6c4dae69d19",
    "_uuid": "8f2839f25d086af736a60e9eeb907d3b93b6e0e5",
    "execution": {
     "iopub.execute_input": "2023-06-06T07:29:42.611967Z",
     "iopub.status.busy": "2023-06-06T07:29:42.611564Z",
     "iopub.status.idle": "2023-06-06T07:29:42.634148Z",
     "shell.execute_reply": "2023-06-06T07:29:42.633372Z"
    },
    "papermill": {
     "duration": 0.043349,
     "end_time": "2023-06-06T07:29:42.636676",
     "exception": false,
     "start_time": "2023-06-06T07:29:42.593327",
     "status": "completed"
    },
    "tags": []
   },
   "outputs": [
    {
     "name": "stdout",
     "output_type": "stream",
     "text": [
      "/kaggle/input/euro-exchange-daily-rates-19992020/euro-daily-hist_1999_2022.csv\n"
     ]
    }
   ],
   "source": [
    "# This Python 3 environment comes with many helpful analytics libraries installed\n",
    "# It is defined by the kaggle/python Docker image: https://github.com/kaggle/docker-python\n",
    "# For example, here's several helpful packages to load\n",
    "\n",
    "import numpy as np # linear algebra\n",
    "import pandas as pd # data processing, CSV file I/O (e.g. pd.read_csv)\n",
    "\n",
    "# Input data files are available in the read-only \"../input/\" directory\n",
    "# For example, running this (by clicking run or pressing Shift+Enter) will list all files under the input directory\n",
    "\n",
    "import os\n",
    "for dirname, _, filenames in os.walk('/kaggle/input'):\n",
    "    for filename in filenames:\n",
    "        print(os.path.join(dirname, filename))\n",
    "\n",
    "# You can write up to 20GB to the current directory (/kaggle/working/) that gets preserved as output when you create a version using \"Save & Run All\" \n",
    "# You can also write temporary files to /kaggle/temp/, but they won't be saved outside of the current session"
   ]
  },
  {
   "cell_type": "code",
   "execution_count": 2,
   "id": "f6648ab5",
   "metadata": {
    "execution": {
     "iopub.execute_input": "2023-06-06T07:29:42.666402Z",
     "iopub.status.busy": "2023-06-06T07:29:42.665918Z",
     "iopub.status.idle": "2023-06-06T07:29:42.819461Z",
     "shell.execute_reply": "2023-06-06T07:29:42.818277Z"
    },
    "papermill": {
     "duration": 0.171791,
     "end_time": "2023-06-06T07:29:42.822307",
     "exception": false,
     "start_time": "2023-06-06T07:29:42.650516",
     "status": "completed"
    },
    "tags": []
   },
   "outputs": [],
   "source": [
    "exchange_data = pd.read_csv('/kaggle/input/euro-exchange-daily-rates-19992020/euro-daily-hist_1999_2022.csv')"
   ]
  },
  {
   "cell_type": "raw",
   "id": "c262dc2f",
   "metadata": {
    "execution": {
     "iopub.execute_input": "2023-06-06T05:37:57.454572Z",
     "iopub.status.busy": "2023-06-06T05:37:57.454157Z",
     "iopub.status.idle": "2023-06-06T05:37:57.483076Z",
     "shell.execute_reply": "2023-06-06T05:37:57.481597Z",
     "shell.execute_reply.started": "2023-06-06T05:37:57.454540Z"
    },
    "papermill": {
     "duration": 0.013585,
     "end_time": "2023-06-06T07:29:42.849768",
     "exception": false,
     "start_time": "2023-06-06T07:29:42.836183",
     "status": "completed"
    },
    "tags": []
   },
   "source": [
    "exchange_data.head()"
   ]
  },
  {
   "cell_type": "code",
   "execution_count": 3,
   "id": "d4bdacd1",
   "metadata": {
    "execution": {
     "iopub.execute_input": "2023-06-06T07:29:42.878776Z",
     "iopub.status.busy": "2023-06-06T07:29:42.878357Z",
     "iopub.status.idle": "2023-06-06T07:29:42.982774Z",
     "shell.execute_reply": "2023-06-06T07:29:42.981506Z"
    },
    "papermill": {
     "duration": 0.122609,
     "end_time": "2023-06-06T07:29:42.986039",
     "exception": false,
     "start_time": "2023-06-06T07:29:42.863430",
     "status": "completed"
    },
    "tags": []
   },
   "outputs": [
    {
     "name": "stdout",
     "output_type": "stream",
     "text": [
      "<class 'pandas.core.frame.DataFrame'>\n",
      "RangeIndex: 6311 entries, 0 to 6310\n",
      "Data columns (total 41 columns):\n",
      " #   Column                    Non-Null Count  Dtype  \n",
      "---  ------                    --------------  -----  \n",
      " 0   Period\\Unit:              6311 non-null   object \n",
      " 1   [Australian dollar ]      6311 non-null   object \n",
      " 2   [Bulgarian lev ]          5909 non-null   object \n",
      " 3   [Brazilian real ]         6043 non-null   object \n",
      " 4   [Canadian dollar ]        6311 non-null   object \n",
      " 5   [Swiss franc ]            6311 non-null   object \n",
      " 6   [Chinese yuan renminbi ]  6043 non-null   object \n",
      " 7   [Cypriot pound ]          2346 non-null   object \n",
      " 8   [Czech koruna ]           6311 non-null   object \n",
      " 9   [Danish krone ]           6311 non-null   object \n",
      " 10  [Estonian kroon ]         3130 non-null   object \n",
      " 11  [UK pound sterling ]      6311 non-null   object \n",
      " 12  [Greek drachma ]          520 non-null    object \n",
      " 13  [Hong Kong dollar ]       6311 non-null   object \n",
      " 14  [Croatian kuna ]          5941 non-null   object \n",
      " 15  [Hungarian forint ]       6311 non-null   object \n",
      " 16  [Indonesian rupiah ]      6311 non-null   object \n",
      " 17  [Israeli shekel ]         6043 non-null   object \n",
      " 18  [Indian rupee ]           6043 non-null   object \n",
      " 19  [Iceland krona ]          3904 non-null   float64\n",
      " 20  [Japanese yen ]           6311 non-null   object \n",
      " 21  [Korean won ]             6311 non-null   object \n",
      " 22  [Lithuanian litas ]       4159 non-null   object \n",
      " 23  [Latvian lats ]           3904 non-null   object \n",
      " 24  [Maltese lira ]           2346 non-null   object \n",
      " 25  [Mexican peso ]           6311 non-null   object \n",
      " 26  [Malaysian ringgit ]      6311 non-null   object \n",
      " 27  [Norwegian krone ]        6311 non-null   object \n",
      " 28  [New Zealand dollar ]     6311 non-null   object \n",
      " 29  [Philippine peso ]        6311 non-null   object \n",
      " 30  [Polish zloty ]           6311 non-null   object \n",
      " 31  [Romanian leu ]           6249 non-null   float64\n",
      " 32  [Russian rouble ]         5994 non-null   object \n",
      " 33  [Swedish krona ]          6311 non-null   object \n",
      " 34  [Singapore dollar ]       6311 non-null   object \n",
      " 35  [Slovenian tolar ]        2085 non-null   object \n",
      " 36  [Slovak koruna ]          2608 non-null   object \n",
      " 37  [Thai baht ]              6311 non-null   object \n",
      " 38  [Turkish lira ]           6249 non-null   float64\n",
      " 39  [US dollar ]              6311 non-null   object \n",
      " 40  [South African rand ]     6311 non-null   object \n",
      "dtypes: float64(3), object(38)\n",
      "memory usage: 2.0+ MB\n"
     ]
    }
   ],
   "source": [
    "exchange_data.info()"
   ]
  },
  {
   "cell_type": "code",
   "execution_count": 4,
   "id": "a162520c",
   "metadata": {
    "execution": {
     "iopub.execute_input": "2023-06-06T07:29:43.015794Z",
     "iopub.status.busy": "2023-06-06T07:29:43.015374Z",
     "iopub.status.idle": "2023-06-06T07:29:43.136595Z",
     "shell.execute_reply": "2023-06-06T07:29:43.135315Z"
    },
    "papermill": {
     "duration": 0.139292,
     "end_time": "2023-06-06T07:29:43.139431",
     "exception": false,
     "start_time": "2023-06-06T07:29:43.000139",
     "status": "completed"
    },
    "tags": []
   },
   "outputs": [
    {
     "data": {
      "text/html": [
       "<div>\n",
       "<style scoped>\n",
       "    .dataframe tbody tr th:only-of-type {\n",
       "        vertical-align: middle;\n",
       "    }\n",
       "\n",
       "    .dataframe tbody tr th {\n",
       "        vertical-align: top;\n",
       "    }\n",
       "\n",
       "    .dataframe thead th {\n",
       "        text-align: right;\n",
       "    }\n",
       "</style>\n",
       "<table border=\"1\" class=\"dataframe\">\n",
       "  <thead>\n",
       "    <tr style=\"text-align: right;\">\n",
       "      <th></th>\n",
       "      <th>Period\\Unit:</th>\n",
       "      <th>[Australian dollar ]</th>\n",
       "      <th>[Bulgarian lev ]</th>\n",
       "      <th>[Brazilian real ]</th>\n",
       "      <th>[Canadian dollar ]</th>\n",
       "      <th>[Swiss franc ]</th>\n",
       "      <th>[Chinese yuan renminbi ]</th>\n",
       "      <th>[Cypriot pound ]</th>\n",
       "      <th>[Czech koruna ]</th>\n",
       "      <th>[Danish krone ]</th>\n",
       "      <th>...</th>\n",
       "      <th>[Romanian leu ]</th>\n",
       "      <th>[Russian rouble ]</th>\n",
       "      <th>[Swedish krona ]</th>\n",
       "      <th>[Singapore dollar ]</th>\n",
       "      <th>[Slovenian tolar ]</th>\n",
       "      <th>[Slovak koruna ]</th>\n",
       "      <th>[Thai baht ]</th>\n",
       "      <th>[Turkish lira ]</th>\n",
       "      <th>[US dollar ]</th>\n",
       "      <th>[South African rand ]</th>\n",
       "    </tr>\n",
       "  </thead>\n",
       "  <tbody>\n",
       "    <tr>\n",
       "      <th>0</th>\n",
       "      <td>False</td>\n",
       "      <td>False</td>\n",
       "      <td>False</td>\n",
       "      <td>False</td>\n",
       "      <td>False</td>\n",
       "      <td>False</td>\n",
       "      <td>False</td>\n",
       "      <td>True</td>\n",
       "      <td>False</td>\n",
       "      <td>False</td>\n",
       "      <td>...</td>\n",
       "      <td>False</td>\n",
       "      <td>True</td>\n",
       "      <td>False</td>\n",
       "      <td>False</td>\n",
       "      <td>True</td>\n",
       "      <td>True</td>\n",
       "      <td>False</td>\n",
       "      <td>False</td>\n",
       "      <td>False</td>\n",
       "      <td>False</td>\n",
       "    </tr>\n",
       "    <tr>\n",
       "      <th>1</th>\n",
       "      <td>False</td>\n",
       "      <td>False</td>\n",
       "      <td>False</td>\n",
       "      <td>False</td>\n",
       "      <td>False</td>\n",
       "      <td>False</td>\n",
       "      <td>False</td>\n",
       "      <td>True</td>\n",
       "      <td>False</td>\n",
       "      <td>False</td>\n",
       "      <td>...</td>\n",
       "      <td>False</td>\n",
       "      <td>True</td>\n",
       "      <td>False</td>\n",
       "      <td>False</td>\n",
       "      <td>True</td>\n",
       "      <td>True</td>\n",
       "      <td>False</td>\n",
       "      <td>False</td>\n",
       "      <td>False</td>\n",
       "      <td>False</td>\n",
       "    </tr>\n",
       "    <tr>\n",
       "      <th>2</th>\n",
       "      <td>False</td>\n",
       "      <td>False</td>\n",
       "      <td>False</td>\n",
       "      <td>False</td>\n",
       "      <td>False</td>\n",
       "      <td>False</td>\n",
       "      <td>False</td>\n",
       "      <td>True</td>\n",
       "      <td>False</td>\n",
       "      <td>False</td>\n",
       "      <td>...</td>\n",
       "      <td>False</td>\n",
       "      <td>True</td>\n",
       "      <td>False</td>\n",
       "      <td>False</td>\n",
       "      <td>True</td>\n",
       "      <td>True</td>\n",
       "      <td>False</td>\n",
       "      <td>False</td>\n",
       "      <td>False</td>\n",
       "      <td>False</td>\n",
       "    </tr>\n",
       "    <tr>\n",
       "      <th>3</th>\n",
       "      <td>False</td>\n",
       "      <td>False</td>\n",
       "      <td>False</td>\n",
       "      <td>False</td>\n",
       "      <td>False</td>\n",
       "      <td>False</td>\n",
       "      <td>False</td>\n",
       "      <td>True</td>\n",
       "      <td>False</td>\n",
       "      <td>False</td>\n",
       "      <td>...</td>\n",
       "      <td>False</td>\n",
       "      <td>True</td>\n",
       "      <td>False</td>\n",
       "      <td>False</td>\n",
       "      <td>True</td>\n",
       "      <td>True</td>\n",
       "      <td>False</td>\n",
       "      <td>False</td>\n",
       "      <td>False</td>\n",
       "      <td>False</td>\n",
       "    </tr>\n",
       "    <tr>\n",
       "      <th>4</th>\n",
       "      <td>False</td>\n",
       "      <td>False</td>\n",
       "      <td>False</td>\n",
       "      <td>False</td>\n",
       "      <td>False</td>\n",
       "      <td>False</td>\n",
       "      <td>False</td>\n",
       "      <td>True</td>\n",
       "      <td>False</td>\n",
       "      <td>False</td>\n",
       "      <td>...</td>\n",
       "      <td>False</td>\n",
       "      <td>True</td>\n",
       "      <td>False</td>\n",
       "      <td>False</td>\n",
       "      <td>True</td>\n",
       "      <td>True</td>\n",
       "      <td>False</td>\n",
       "      <td>False</td>\n",
       "      <td>False</td>\n",
       "      <td>False</td>\n",
       "    </tr>\n",
       "    <tr>\n",
       "      <th>...</th>\n",
       "      <td>...</td>\n",
       "      <td>...</td>\n",
       "      <td>...</td>\n",
       "      <td>...</td>\n",
       "      <td>...</td>\n",
       "      <td>...</td>\n",
       "      <td>...</td>\n",
       "      <td>...</td>\n",
       "      <td>...</td>\n",
       "      <td>...</td>\n",
       "      <td>...</td>\n",
       "      <td>...</td>\n",
       "      <td>...</td>\n",
       "      <td>...</td>\n",
       "      <td>...</td>\n",
       "      <td>...</td>\n",
       "      <td>...</td>\n",
       "      <td>...</td>\n",
       "      <td>...</td>\n",
       "      <td>...</td>\n",
       "      <td>...</td>\n",
       "    </tr>\n",
       "    <tr>\n",
       "      <th>6306</th>\n",
       "      <td>False</td>\n",
       "      <td>False</td>\n",
       "      <td>True</td>\n",
       "      <td>True</td>\n",
       "      <td>False</td>\n",
       "      <td>False</td>\n",
       "      <td>True</td>\n",
       "      <td>False</td>\n",
       "      <td>False</td>\n",
       "      <td>False</td>\n",
       "      <td>...</td>\n",
       "      <td>False</td>\n",
       "      <td>False</td>\n",
       "      <td>False</td>\n",
       "      <td>False</td>\n",
       "      <td>False</td>\n",
       "      <td>False</td>\n",
       "      <td>False</td>\n",
       "      <td>False</td>\n",
       "      <td>False</td>\n",
       "      <td>False</td>\n",
       "    </tr>\n",
       "    <tr>\n",
       "      <th>6307</th>\n",
       "      <td>False</td>\n",
       "      <td>False</td>\n",
       "      <td>True</td>\n",
       "      <td>True</td>\n",
       "      <td>False</td>\n",
       "      <td>False</td>\n",
       "      <td>True</td>\n",
       "      <td>False</td>\n",
       "      <td>False</td>\n",
       "      <td>False</td>\n",
       "      <td>...</td>\n",
       "      <td>False</td>\n",
       "      <td>False</td>\n",
       "      <td>False</td>\n",
       "      <td>False</td>\n",
       "      <td>False</td>\n",
       "      <td>False</td>\n",
       "      <td>False</td>\n",
       "      <td>False</td>\n",
       "      <td>False</td>\n",
       "      <td>False</td>\n",
       "    </tr>\n",
       "    <tr>\n",
       "      <th>6308</th>\n",
       "      <td>False</td>\n",
       "      <td>False</td>\n",
       "      <td>True</td>\n",
       "      <td>True</td>\n",
       "      <td>False</td>\n",
       "      <td>False</td>\n",
       "      <td>True</td>\n",
       "      <td>False</td>\n",
       "      <td>False</td>\n",
       "      <td>False</td>\n",
       "      <td>...</td>\n",
       "      <td>False</td>\n",
       "      <td>False</td>\n",
       "      <td>False</td>\n",
       "      <td>False</td>\n",
       "      <td>False</td>\n",
       "      <td>False</td>\n",
       "      <td>False</td>\n",
       "      <td>False</td>\n",
       "      <td>False</td>\n",
       "      <td>False</td>\n",
       "    </tr>\n",
       "    <tr>\n",
       "      <th>6309</th>\n",
       "      <td>False</td>\n",
       "      <td>False</td>\n",
       "      <td>True</td>\n",
       "      <td>True</td>\n",
       "      <td>False</td>\n",
       "      <td>False</td>\n",
       "      <td>True</td>\n",
       "      <td>False</td>\n",
       "      <td>False</td>\n",
       "      <td>False</td>\n",
       "      <td>...</td>\n",
       "      <td>False</td>\n",
       "      <td>False</td>\n",
       "      <td>False</td>\n",
       "      <td>False</td>\n",
       "      <td>False</td>\n",
       "      <td>False</td>\n",
       "      <td>False</td>\n",
       "      <td>False</td>\n",
       "      <td>False</td>\n",
       "      <td>False</td>\n",
       "    </tr>\n",
       "    <tr>\n",
       "      <th>6310</th>\n",
       "      <td>False</td>\n",
       "      <td>False</td>\n",
       "      <td>True</td>\n",
       "      <td>True</td>\n",
       "      <td>False</td>\n",
       "      <td>False</td>\n",
       "      <td>True</td>\n",
       "      <td>False</td>\n",
       "      <td>False</td>\n",
       "      <td>False</td>\n",
       "      <td>...</td>\n",
       "      <td>False</td>\n",
       "      <td>False</td>\n",
       "      <td>False</td>\n",
       "      <td>False</td>\n",
       "      <td>False</td>\n",
       "      <td>False</td>\n",
       "      <td>False</td>\n",
       "      <td>False</td>\n",
       "      <td>False</td>\n",
       "      <td>False</td>\n",
       "    </tr>\n",
       "  </tbody>\n",
       "</table>\n",
       "<p>6311 rows × 41 columns</p>\n",
       "</div>"
      ],
      "text/plain": [
       "      Period\\Unit:  [Australian dollar ]  [Bulgarian lev ]  [Brazilian real ]  \\\n",
       "0            False                 False             False              False   \n",
       "1            False                 False             False              False   \n",
       "2            False                 False             False              False   \n",
       "3            False                 False             False              False   \n",
       "4            False                 False             False              False   \n",
       "...            ...                   ...               ...                ...   \n",
       "6306         False                 False              True               True   \n",
       "6307         False                 False              True               True   \n",
       "6308         False                 False              True               True   \n",
       "6309         False                 False              True               True   \n",
       "6310         False                 False              True               True   \n",
       "\n",
       "      [Canadian dollar ]  [Swiss franc ]  [Chinese yuan renminbi ]  \\\n",
       "0                  False           False                     False   \n",
       "1                  False           False                     False   \n",
       "2                  False           False                     False   \n",
       "3                  False           False                     False   \n",
       "4                  False           False                     False   \n",
       "...                  ...             ...                       ...   \n",
       "6306               False           False                      True   \n",
       "6307               False           False                      True   \n",
       "6308               False           False                      True   \n",
       "6309               False           False                      True   \n",
       "6310               False           False                      True   \n",
       "\n",
       "      [Cypriot pound ]  [Czech koruna ]  [Danish krone ]  ...  \\\n",
       "0                 True            False            False  ...   \n",
       "1                 True            False            False  ...   \n",
       "2                 True            False            False  ...   \n",
       "3                 True            False            False  ...   \n",
       "4                 True            False            False  ...   \n",
       "...                ...              ...              ...  ...   \n",
       "6306             False            False            False  ...   \n",
       "6307             False            False            False  ...   \n",
       "6308             False            False            False  ...   \n",
       "6309             False            False            False  ...   \n",
       "6310             False            False            False  ...   \n",
       "\n",
       "      [Romanian leu ]  [Russian rouble ]  [Swedish krona ]  \\\n",
       "0               False               True             False   \n",
       "1               False               True             False   \n",
       "2               False               True             False   \n",
       "3               False               True             False   \n",
       "4               False               True             False   \n",
       "...               ...                ...               ...   \n",
       "6306            False              False             False   \n",
       "6307            False              False             False   \n",
       "6308            False              False             False   \n",
       "6309            False              False             False   \n",
       "6310            False              False             False   \n",
       "\n",
       "      [Singapore dollar ]  [Slovenian tolar ]  [Slovak koruna ]  [Thai baht ]  \\\n",
       "0                   False                True              True         False   \n",
       "1                   False                True              True         False   \n",
       "2                   False                True              True         False   \n",
       "3                   False                True              True         False   \n",
       "4                   False                True              True         False   \n",
       "...                   ...                 ...               ...           ...   \n",
       "6306                False               False             False         False   \n",
       "6307                False               False             False         False   \n",
       "6308                False               False             False         False   \n",
       "6309                False               False             False         False   \n",
       "6310                False               False             False         False   \n",
       "\n",
       "      [Turkish lira ]  [US dollar ]  [South African rand ]  \n",
       "0               False         False                  False  \n",
       "1               False         False                  False  \n",
       "2               False         False                  False  \n",
       "3               False         False                  False  \n",
       "4               False         False                  False  \n",
       "...               ...           ...                    ...  \n",
       "6306            False         False                  False  \n",
       "6307            False         False                  False  \n",
       "6308            False         False                  False  \n",
       "6309            False         False                  False  \n",
       "6310            False         False                  False  \n",
       "\n",
       "[6311 rows x 41 columns]"
      ]
     },
     "execution_count": 4,
     "metadata": {},
     "output_type": "execute_result"
    }
   ],
   "source": [
    "exchange_data.isnull()"
   ]
  },
  {
   "cell_type": "code",
   "execution_count": 5,
   "id": "eea4adf6",
   "metadata": {
    "execution": {
     "iopub.execute_input": "2023-06-06T07:29:43.170515Z",
     "iopub.status.busy": "2023-06-06T07:29:43.170080Z",
     "iopub.status.idle": "2023-06-06T07:29:43.176639Z",
     "shell.execute_reply": "2023-06-06T07:29:43.175413Z"
    },
    "papermill": {
     "duration": 0.025037,
     "end_time": "2023-06-06T07:29:43.179069",
     "exception": false,
     "start_time": "2023-06-06T07:29:43.154032",
     "status": "completed"
    },
    "tags": []
   },
   "outputs": [],
   "source": [
    "exchange_data.rename(columns={'[US dollar ]': 'US_dollar',\n",
    "                               'Period\\\\Unit:': 'Time'},\n",
    "                      inplace=True)"
   ]
  },
  {
   "cell_type": "code",
   "execution_count": 6,
   "id": "f5f71332",
   "metadata": {
    "execution": {
     "iopub.execute_input": "2023-06-06T07:29:43.209890Z",
     "iopub.status.busy": "2023-06-06T07:29:43.209455Z",
     "iopub.status.idle": "2023-06-06T07:29:43.224004Z",
     "shell.execute_reply": "2023-06-06T07:29:43.222817Z"
    },
    "papermill": {
     "duration": 0.033247,
     "end_time": "2023-06-06T07:29:43.226885",
     "exception": false,
     "start_time": "2023-06-06T07:29:43.193638",
     "status": "completed"
    },
    "tags": []
   },
   "outputs": [
    {
     "name": "stderr",
     "output_type": "stream",
     "text": [
      "/tmp/ipykernel_20/837103609.py:3: DeprecationWarning: In a future version, `df.iloc[:, i] = newvals` will attempt to set the values inplace instead of always setting a new array. To retain the old behavior, use either `df[df.columns[i]] = newvals` or, if columns are non-unique, `df.isetitem(i, newvals)`\n",
      "  exchange_data.loc[:, 'Time'] = pd.to_datetime(exchange_data['Time'])\n"
     ]
    }
   ],
   "source": [
    "\n",
    "\n",
    "#pd.to_datetime(exchange_rates['Time'])\n",
    "\n",
    "exchange_data.loc[:, 'Time'] = pd.to_datetime(exchange_data['Time'])"
   ]
  },
  {
   "cell_type": "code",
   "execution_count": 7,
   "id": "d102b44c",
   "metadata": {
    "execution": {
     "iopub.execute_input": "2023-06-06T07:29:43.257940Z",
     "iopub.status.busy": "2023-06-06T07:29:43.257556Z",
     "iopub.status.idle": "2023-06-06T07:29:43.269425Z",
     "shell.execute_reply": "2023-06-06T07:29:43.268291Z"
    },
    "papermill": {
     "duration": 0.030496,
     "end_time": "2023-06-06T07:29:43.272054",
     "exception": false,
     "start_time": "2023-06-06T07:29:43.241558",
     "status": "completed"
    },
    "tags": []
   },
   "outputs": [],
   "source": [
    "exchange_data.sort_values('Time',inplace = True)"
   ]
  },
  {
   "cell_type": "code",
   "execution_count": 8,
   "id": "96468d58",
   "metadata": {
    "execution": {
     "iopub.execute_input": "2023-06-06T07:29:43.303565Z",
     "iopub.status.busy": "2023-06-06T07:29:43.303113Z",
     "iopub.status.idle": "2023-06-06T07:29:43.308608Z",
     "shell.execute_reply": "2023-06-06T07:29:43.307428Z"
    },
    "papermill": {
     "duration": 0.024345,
     "end_time": "2023-06-06T07:29:43.311121",
     "exception": false,
     "start_time": "2023-06-06T07:29:43.286776",
     "status": "completed"
    },
    "tags": []
   },
   "outputs": [],
   "source": [
    "exchange_data.reset_index(drop = True, inplace = True)"
   ]
  },
  {
   "cell_type": "code",
   "execution_count": 9,
   "id": "ac23bddc",
   "metadata": {
    "execution": {
     "iopub.execute_input": "2023-06-06T07:29:43.342976Z",
     "iopub.status.busy": "2023-06-06T07:29:43.342520Z",
     "iopub.status.idle": "2023-06-06T07:29:43.355960Z",
     "shell.execute_reply": "2023-06-06T07:29:43.354951Z"
    },
    "papermill": {
     "duration": 0.03236,
     "end_time": "2023-06-06T07:29:43.358301",
     "exception": false,
     "start_time": "2023-06-06T07:29:43.325941",
     "status": "completed"
    },
    "tags": []
   },
   "outputs": [
    {
     "data": {
      "text/plain": [
       "-         62\n",
       "1.2276     9\n",
       "1.1215     8\n",
       "1.1268     7\n",
       "1.1305     7\n",
       "          ..\n",
       "1.4030     1\n",
       "1.4113     1\n",
       "1.4106     1\n",
       "1.4127     1\n",
       "1.0751     1\n",
       "Name: US_dollar, Length: 3734, dtype: int64"
      ]
     },
     "execution_count": 9,
     "metadata": {},
     "output_type": "execute_result"
    }
   ],
   "source": [
    "exchange_data['US_dollar'].value_counts()"
   ]
  },
  {
   "cell_type": "code",
   "execution_count": 10,
   "id": "241fdec4",
   "metadata": {
    "execution": {
     "iopub.execute_input": "2023-06-06T07:29:43.389888Z",
     "iopub.status.busy": "2023-06-06T07:29:43.389503Z",
     "iopub.status.idle": "2023-06-06T07:29:43.396773Z",
     "shell.execute_reply": "2023-06-06T07:29:43.395478Z"
    },
    "papermill": {
     "duration": 0.026295,
     "end_time": "2023-06-06T07:29:43.399313",
     "exception": false,
     "start_time": "2023-06-06T07:29:43.373018",
     "status": "completed"
    },
    "tags": []
   },
   "outputs": [],
   "source": [
    "euro_to_dollar = exchange_data[['Time', 'US_dollar']].copy()"
   ]
  },
  {
   "cell_type": "code",
   "execution_count": 11,
   "id": "af353add",
   "metadata": {
    "execution": {
     "iopub.execute_input": "2023-06-06T07:29:43.431567Z",
     "iopub.status.busy": "2023-06-06T07:29:43.431114Z",
     "iopub.status.idle": "2023-06-06T07:29:43.444864Z",
     "shell.execute_reply": "2023-06-06T07:29:43.443609Z"
    },
    "papermill": {
     "duration": 0.03335,
     "end_time": "2023-06-06T07:29:43.447715",
     "exception": false,
     "start_time": "2023-06-06T07:29:43.414365",
     "status": "completed"
    },
    "tags": []
   },
   "outputs": [
    {
     "data": {
      "text/html": [
       "<div>\n",
       "<style scoped>\n",
       "    .dataframe tbody tr th:only-of-type {\n",
       "        vertical-align: middle;\n",
       "    }\n",
       "\n",
       "    .dataframe tbody tr th {\n",
       "        vertical-align: top;\n",
       "    }\n",
       "\n",
       "    .dataframe thead th {\n",
       "        text-align: right;\n",
       "    }\n",
       "</style>\n",
       "<table border=\"1\" class=\"dataframe\">\n",
       "  <thead>\n",
       "    <tr style=\"text-align: right;\">\n",
       "      <th></th>\n",
       "      <th>Time</th>\n",
       "      <th>US_dollar</th>\n",
       "    </tr>\n",
       "  </thead>\n",
       "  <tbody>\n",
       "    <tr>\n",
       "      <th>0</th>\n",
       "      <td>1999-01-04</td>\n",
       "      <td>1.1789</td>\n",
       "    </tr>\n",
       "    <tr>\n",
       "      <th>1</th>\n",
       "      <td>1999-01-05</td>\n",
       "      <td>1.1790</td>\n",
       "    </tr>\n",
       "    <tr>\n",
       "      <th>2</th>\n",
       "      <td>1999-01-06</td>\n",
       "      <td>1.1743</td>\n",
       "    </tr>\n",
       "    <tr>\n",
       "      <th>3</th>\n",
       "      <td>1999-01-07</td>\n",
       "      <td>1.1632</td>\n",
       "    </tr>\n",
       "    <tr>\n",
       "      <th>4</th>\n",
       "      <td>1999-01-08</td>\n",
       "      <td>1.1659</td>\n",
       "    </tr>\n",
       "    <tr>\n",
       "      <th>...</th>\n",
       "      <td>...</td>\n",
       "      <td>...</td>\n",
       "    </tr>\n",
       "    <tr>\n",
       "      <th>6306</th>\n",
       "      <td>2023-05-22</td>\n",
       "      <td>1.0822</td>\n",
       "    </tr>\n",
       "    <tr>\n",
       "      <th>6307</th>\n",
       "      <td>2023-05-23</td>\n",
       "      <td>1.0779</td>\n",
       "    </tr>\n",
       "    <tr>\n",
       "      <th>6308</th>\n",
       "      <td>2023-05-24</td>\n",
       "      <td>1.0785</td>\n",
       "    </tr>\n",
       "    <tr>\n",
       "      <th>6309</th>\n",
       "      <td>2023-05-25</td>\n",
       "      <td>1.0735</td>\n",
       "    </tr>\n",
       "    <tr>\n",
       "      <th>6310</th>\n",
       "      <td>2023-05-26</td>\n",
       "      <td>1.0751</td>\n",
       "    </tr>\n",
       "  </tbody>\n",
       "</table>\n",
       "<p>6311 rows × 2 columns</p>\n",
       "</div>"
      ],
      "text/plain": [
       "           Time US_dollar\n",
       "0    1999-01-04    1.1789\n",
       "1    1999-01-05    1.1790\n",
       "2    1999-01-06    1.1743\n",
       "3    1999-01-07    1.1632\n",
       "4    1999-01-08    1.1659\n",
       "...         ...       ...\n",
       "6306 2023-05-22    1.0822\n",
       "6307 2023-05-23    1.0779\n",
       "6308 2023-05-24    1.0785\n",
       "6309 2023-05-25    1.0735\n",
       "6310 2023-05-26    1.0751\n",
       "\n",
       "[6311 rows x 2 columns]"
      ]
     },
     "execution_count": 11,
     "metadata": {},
     "output_type": "execute_result"
    }
   ],
   "source": [
    "\n",
    "euro_to_dollar"
   ]
  },
  {
   "cell_type": "code",
   "execution_count": 12,
   "id": "69cb6f3c",
   "metadata": {
    "execution": {
     "iopub.execute_input": "2023-06-06T07:29:43.480029Z",
     "iopub.status.busy": "2023-06-06T07:29:43.479642Z",
     "iopub.status.idle": "2023-06-06T07:29:43.489093Z",
     "shell.execute_reply": "2023-06-06T07:29:43.487875Z"
    },
    "papermill": {
     "duration": 0.029055,
     "end_time": "2023-06-06T07:29:43.491869",
     "exception": false,
     "start_time": "2023-06-06T07:29:43.462814",
     "status": "completed"
    },
    "tags": []
   },
   "outputs": [],
   "source": [
    "euro_to_dollar = euro_to_dollar[euro_to_dollar['US_dollar'] != '-']"
   ]
  },
  {
   "cell_type": "code",
   "execution_count": 13,
   "id": "a3e176b3",
   "metadata": {
    "execution": {
     "iopub.execute_input": "2023-06-06T07:29:43.523795Z",
     "iopub.status.busy": "2023-06-06T07:29:43.523372Z",
     "iopub.status.idle": "2023-06-06T07:29:43.537562Z",
     "shell.execute_reply": "2023-06-06T07:29:43.536368Z"
    },
    "papermill": {
     "duration": 0.032789,
     "end_time": "2023-06-06T07:29:43.539914",
     "exception": false,
     "start_time": "2023-06-06T07:29:43.507125",
     "status": "completed"
    },
    "tags": []
   },
   "outputs": [
    {
     "data": {
      "text/html": [
       "<div>\n",
       "<style scoped>\n",
       "    .dataframe tbody tr th:only-of-type {\n",
       "        vertical-align: middle;\n",
       "    }\n",
       "\n",
       "    .dataframe tbody tr th {\n",
       "        vertical-align: top;\n",
       "    }\n",
       "\n",
       "    .dataframe thead th {\n",
       "        text-align: right;\n",
       "    }\n",
       "</style>\n",
       "<table border=\"1\" class=\"dataframe\">\n",
       "  <thead>\n",
       "    <tr style=\"text-align: right;\">\n",
       "      <th></th>\n",
       "      <th>Time</th>\n",
       "      <th>US_dollar</th>\n",
       "    </tr>\n",
       "  </thead>\n",
       "  <tbody>\n",
       "    <tr>\n",
       "      <th>0</th>\n",
       "      <td>1999-01-04</td>\n",
       "      <td>1.1789</td>\n",
       "    </tr>\n",
       "    <tr>\n",
       "      <th>1</th>\n",
       "      <td>1999-01-05</td>\n",
       "      <td>1.1790</td>\n",
       "    </tr>\n",
       "    <tr>\n",
       "      <th>2</th>\n",
       "      <td>1999-01-06</td>\n",
       "      <td>1.1743</td>\n",
       "    </tr>\n",
       "    <tr>\n",
       "      <th>3</th>\n",
       "      <td>1999-01-07</td>\n",
       "      <td>1.1632</td>\n",
       "    </tr>\n",
       "    <tr>\n",
       "      <th>4</th>\n",
       "      <td>1999-01-08</td>\n",
       "      <td>1.1659</td>\n",
       "    </tr>\n",
       "    <tr>\n",
       "      <th>...</th>\n",
       "      <td>...</td>\n",
       "      <td>...</td>\n",
       "    </tr>\n",
       "    <tr>\n",
       "      <th>6306</th>\n",
       "      <td>2023-05-22</td>\n",
       "      <td>1.0822</td>\n",
       "    </tr>\n",
       "    <tr>\n",
       "      <th>6307</th>\n",
       "      <td>2023-05-23</td>\n",
       "      <td>1.0779</td>\n",
       "    </tr>\n",
       "    <tr>\n",
       "      <th>6308</th>\n",
       "      <td>2023-05-24</td>\n",
       "      <td>1.0785</td>\n",
       "    </tr>\n",
       "    <tr>\n",
       "      <th>6309</th>\n",
       "      <td>2023-05-25</td>\n",
       "      <td>1.0735</td>\n",
       "    </tr>\n",
       "    <tr>\n",
       "      <th>6310</th>\n",
       "      <td>2023-05-26</td>\n",
       "      <td>1.0751</td>\n",
       "    </tr>\n",
       "  </tbody>\n",
       "</table>\n",
       "<p>6249 rows × 2 columns</p>\n",
       "</div>"
      ],
      "text/plain": [
       "           Time US_dollar\n",
       "0    1999-01-04    1.1789\n",
       "1    1999-01-05    1.1790\n",
       "2    1999-01-06    1.1743\n",
       "3    1999-01-07    1.1632\n",
       "4    1999-01-08    1.1659\n",
       "...         ...       ...\n",
       "6306 2023-05-22    1.0822\n",
       "6307 2023-05-23    1.0779\n",
       "6308 2023-05-24    1.0785\n",
       "6309 2023-05-25    1.0735\n",
       "6310 2023-05-26    1.0751\n",
       "\n",
       "[6249 rows x 2 columns]"
      ]
     },
     "execution_count": 13,
     "metadata": {},
     "output_type": "execute_result"
    }
   ],
   "source": [
    "euro_to_dollar"
   ]
  },
  {
   "cell_type": "code",
   "execution_count": 14,
   "id": "54b676fc",
   "metadata": {
    "execution": {
     "iopub.execute_input": "2023-06-06T07:29:43.572253Z",
     "iopub.status.busy": "2023-06-06T07:29:43.571847Z",
     "iopub.status.idle": "2023-06-06T07:29:43.578905Z",
     "shell.execute_reply": "2023-06-06T07:29:43.578097Z"
    },
    "papermill": {
     "duration": 0.026164,
     "end_time": "2023-06-06T07:29:43.581428",
     "exception": false,
     "start_time": "2023-06-06T07:29:43.555264",
     "status": "completed"
    },
    "tags": []
   },
   "outputs": [
    {
     "name": "stderr",
     "output_type": "stream",
     "text": [
      "/tmp/ipykernel_20/1531624325.py:1: SettingWithCopyWarning: \n",
      "A value is trying to be set on a copy of a slice from a DataFrame.\n",
      "Try using .loc[row_indexer,col_indexer] = value instead\n",
      "\n",
      "See the caveats in the documentation: https://pandas.pydata.org/pandas-docs/stable/user_guide/indexing.html#returning-a-view-versus-a-copy\n",
      "  euro_to_dollar['US_dollar'] = euro_to_dollar['US_dollar'].astype(float)\n"
     ]
    }
   ],
   "source": [
    "euro_to_dollar['US_dollar'] = euro_to_dollar['US_dollar'].astype(float)\n"
   ]
  },
  {
   "cell_type": "code",
   "execution_count": 15,
   "id": "5b477732",
   "metadata": {
    "execution": {
     "iopub.execute_input": "2023-06-06T07:29:43.614294Z",
     "iopub.status.busy": "2023-06-06T07:29:43.613854Z",
     "iopub.status.idle": "2023-06-06T07:29:43.628773Z",
     "shell.execute_reply": "2023-06-06T07:29:43.627644Z"
    },
    "papermill": {
     "duration": 0.034595,
     "end_time": "2023-06-06T07:29:43.631442",
     "exception": false,
     "start_time": "2023-06-06T07:29:43.596847",
     "status": "completed"
    },
    "tags": []
   },
   "outputs": [
    {
     "data": {
      "text/html": [
       "<div>\n",
       "<style scoped>\n",
       "    .dataframe tbody tr th:only-of-type {\n",
       "        vertical-align: middle;\n",
       "    }\n",
       "\n",
       "    .dataframe tbody tr th {\n",
       "        vertical-align: top;\n",
       "    }\n",
       "\n",
       "    .dataframe thead th {\n",
       "        text-align: right;\n",
       "    }\n",
       "</style>\n",
       "<table border=\"1\" class=\"dataframe\">\n",
       "  <thead>\n",
       "    <tr style=\"text-align: right;\">\n",
       "      <th></th>\n",
       "      <th>Time</th>\n",
       "      <th>US_dollar</th>\n",
       "    </tr>\n",
       "  </thead>\n",
       "  <tbody>\n",
       "    <tr>\n",
       "      <th>0</th>\n",
       "      <td>1999-01-04</td>\n",
       "      <td>1.1789</td>\n",
       "    </tr>\n",
       "    <tr>\n",
       "      <th>1</th>\n",
       "      <td>1999-01-05</td>\n",
       "      <td>1.1790</td>\n",
       "    </tr>\n",
       "    <tr>\n",
       "      <th>2</th>\n",
       "      <td>1999-01-06</td>\n",
       "      <td>1.1743</td>\n",
       "    </tr>\n",
       "    <tr>\n",
       "      <th>3</th>\n",
       "      <td>1999-01-07</td>\n",
       "      <td>1.1632</td>\n",
       "    </tr>\n",
       "    <tr>\n",
       "      <th>4</th>\n",
       "      <td>1999-01-08</td>\n",
       "      <td>1.1659</td>\n",
       "    </tr>\n",
       "    <tr>\n",
       "      <th>...</th>\n",
       "      <td>...</td>\n",
       "      <td>...</td>\n",
       "    </tr>\n",
       "    <tr>\n",
       "      <th>6306</th>\n",
       "      <td>2023-05-22</td>\n",
       "      <td>1.0822</td>\n",
       "    </tr>\n",
       "    <tr>\n",
       "      <th>6307</th>\n",
       "      <td>2023-05-23</td>\n",
       "      <td>1.0779</td>\n",
       "    </tr>\n",
       "    <tr>\n",
       "      <th>6308</th>\n",
       "      <td>2023-05-24</td>\n",
       "      <td>1.0785</td>\n",
       "    </tr>\n",
       "    <tr>\n",
       "      <th>6309</th>\n",
       "      <td>2023-05-25</td>\n",
       "      <td>1.0735</td>\n",
       "    </tr>\n",
       "    <tr>\n",
       "      <th>6310</th>\n",
       "      <td>2023-05-26</td>\n",
       "      <td>1.0751</td>\n",
       "    </tr>\n",
       "  </tbody>\n",
       "</table>\n",
       "<p>6249 rows × 2 columns</p>\n",
       "</div>"
      ],
      "text/plain": [
       "           Time  US_dollar\n",
       "0    1999-01-04     1.1789\n",
       "1    1999-01-05     1.1790\n",
       "2    1999-01-06     1.1743\n",
       "3    1999-01-07     1.1632\n",
       "4    1999-01-08     1.1659\n",
       "...         ...        ...\n",
       "6306 2023-05-22     1.0822\n",
       "6307 2023-05-23     1.0779\n",
       "6308 2023-05-24     1.0785\n",
       "6309 2023-05-25     1.0735\n",
       "6310 2023-05-26     1.0751\n",
       "\n",
       "[6249 rows x 2 columns]"
      ]
     },
     "execution_count": 15,
     "metadata": {},
     "output_type": "execute_result"
    }
   ],
   "source": [
    "euro_to_dollar"
   ]
  },
  {
   "cell_type": "code",
   "execution_count": 16,
   "id": "7eba4cf6",
   "metadata": {
    "execution": {
     "iopub.execute_input": "2023-06-06T07:29:43.664751Z",
     "iopub.status.busy": "2023-06-06T07:29:43.664356Z",
     "iopub.status.idle": "2023-06-06T07:29:43.670803Z",
     "shell.execute_reply": "2023-06-06T07:29:43.669473Z"
    },
    "papermill": {
     "duration": 0.026098,
     "end_time": "2023-06-06T07:29:43.673235",
     "exception": false,
     "start_time": "2023-06-06T07:29:43.647137",
     "status": "completed"
    },
    "tags": []
   },
   "outputs": [],
   "source": [
    "import matplotlib.pyplot as plt\n",
    "%matplotlib inline"
   ]
  },
  {
   "cell_type": "code",
   "execution_count": 17,
   "id": "8a530790",
   "metadata": {
    "execution": {
     "iopub.execute_input": "2023-06-06T07:29:43.706018Z",
     "iopub.status.busy": "2023-06-06T07:29:43.705643Z",
     "iopub.status.idle": "2023-06-06T07:29:44.135826Z",
     "shell.execute_reply": "2023-06-06T07:29:44.134910Z"
    },
    "papermill": {
     "duration": 0.449362,
     "end_time": "2023-06-06T07:29:44.138224",
     "exception": false,
     "start_time": "2023-06-06T07:29:43.688862",
     "status": "completed"
    },
    "tags": []
   },
   "outputs": [
    {
     "data": {
      "image/png": "[encoded data removed]",
      "text/plain": [
       "<Figure size 640x480 with 1 Axes>"
      ]
     },
     "metadata": {},
     "output_type": "display_data"
    }
   ],
   "source": [
    "plt.plot(euro_to_dollar['Time'], euro_to_dollar['US_dollar'])\n",
    "plt.xlabel('Time')\n",
    "plt.ylabel('US Dollar')\n",
    "plt.title('Euro to Dollar Exchange Rate');\n",
    "plt.show()"
   ]
  },
  {
   "cell_type": "code",
   "execution_count": 18,
   "id": "34e94c5e",
   "metadata": {
    "execution": {
     "iopub.execute_input": "2023-06-06T07:29:44.175282Z",
     "iopub.status.busy": "2023-06-06T07:29:44.174111Z",
     "iopub.status.idle": "2023-06-06T07:29:44.196257Z",
     "shell.execute_reply": "2023-06-06T07:29:44.194823Z"
    },
    "papermill": {
     "duration": 0.043226,
     "end_time": "2023-06-06T07:29:44.198762",
     "exception": false,
     "start_time": "2023-06-06T07:29:44.155536",
     "status": "completed"
    },
    "tags": []
   },
   "outputs": [
    {
     "name": "stderr",
     "output_type": "stream",
     "text": [
      "/tmp/ipykernel_20/3829665884.py:4: SettingWithCopyWarning: \n",
      "A value is trying to be set on a copy of a slice from a DataFrame.\n",
      "Try using .loc[row_indexer,col_indexer] = value instead\n",
      "\n",
      "See the caveats in the documentation: https://pandas.pydata.org/pandas-docs/stable/user_guide/indexing.html#returning-a-view-versus-a-copy\n",
      "  euro_to_dollar['rolling_mean'] = euro_to_dollar['US_dollar'].rolling(30).mean()\n"
     ]
    },
    {
     "data": {
      "text/html": [
       "<div>\n",
       "<style scoped>\n",
       "    .dataframe tbody tr th:only-of-type {\n",
       "        vertical-align: middle;\n",
       "    }\n",
       "\n",
       "    .dataframe tbody tr th {\n",
       "        vertical-align: top;\n",
       "    }\n",
       "\n",
       "    .dataframe thead th {\n",
       "        text-align: right;\n",
       "    }\n",
       "</style>\n",
       "<table border=\"1\" class=\"dataframe\">\n",
       "  <thead>\n",
       "    <tr style=\"text-align: right;\">\n",
       "      <th></th>\n",
       "      <th>Time</th>\n",
       "      <th>US_dollar</th>\n",
       "      <th>rolling_mean</th>\n",
       "    </tr>\n",
       "  </thead>\n",
       "  <tbody>\n",
       "    <tr>\n",
       "      <th>0</th>\n",
       "      <td>1999-01-04</td>\n",
       "      <td>1.1789</td>\n",
       "      <td>NaN</td>\n",
       "    </tr>\n",
       "    <tr>\n",
       "      <th>1</th>\n",
       "      <td>1999-01-05</td>\n",
       "      <td>1.1790</td>\n",
       "      <td>NaN</td>\n",
       "    </tr>\n",
       "    <tr>\n",
       "      <th>2</th>\n",
       "      <td>1999-01-06</td>\n",
       "      <td>1.1743</td>\n",
       "      <td>NaN</td>\n",
       "    </tr>\n",
       "    <tr>\n",
       "      <th>3</th>\n",
       "      <td>1999-01-07</td>\n",
       "      <td>1.1632</td>\n",
       "      <td>NaN</td>\n",
       "    </tr>\n",
       "    <tr>\n",
       "      <th>4</th>\n",
       "      <td>1999-01-08</td>\n",
       "      <td>1.1659</td>\n",
       "      <td>NaN</td>\n",
       "    </tr>\n",
       "    <tr>\n",
       "      <th>...</th>\n",
       "      <td>...</td>\n",
       "      <td>...</td>\n",
       "      <td>...</td>\n",
       "    </tr>\n",
       "    <tr>\n",
       "      <th>6306</th>\n",
       "      <td>2023-05-22</td>\n",
       "      <td>1.0822</td>\n",
       "      <td>1.095337</td>\n",
       "    </tr>\n",
       "    <tr>\n",
       "      <th>6307</th>\n",
       "      <td>2023-05-23</td>\n",
       "      <td>1.0779</td>\n",
       "      <td>1.094883</td>\n",
       "    </tr>\n",
       "    <tr>\n",
       "      <th>6308</th>\n",
       "      <td>2023-05-24</td>\n",
       "      <td>1.0785</td>\n",
       "      <td>1.094483</td>\n",
       "    </tr>\n",
       "    <tr>\n",
       "      <th>6309</th>\n",
       "      <td>2023-05-25</td>\n",
       "      <td>1.0735</td>\n",
       "      <td>1.093860</td>\n",
       "    </tr>\n",
       "    <tr>\n",
       "      <th>6310</th>\n",
       "      <td>2023-05-26</td>\n",
       "      <td>1.0751</td>\n",
       "      <td>1.092980</td>\n",
       "    </tr>\n",
       "  </tbody>\n",
       "</table>\n",
       "<p>6249 rows × 3 columns</p>\n",
       "</div>"
      ],
      "text/plain": [
       "           Time  US_dollar  rolling_mean\n",
       "0    1999-01-04     1.1789           NaN\n",
       "1    1999-01-05     1.1790           NaN\n",
       "2    1999-01-06     1.1743           NaN\n",
       "3    1999-01-07     1.1632           NaN\n",
       "4    1999-01-08     1.1659           NaN\n",
       "...         ...        ...           ...\n",
       "6306 2023-05-22     1.0822      1.095337\n",
       "6307 2023-05-23     1.0779      1.094883\n",
       "6308 2023-05-24     1.0785      1.094483\n",
       "6309 2023-05-25     1.0735      1.093860\n",
       "6310 2023-05-26     1.0751      1.092980\n",
       "\n",
       "[6249 rows x 3 columns]"
      ]
     },
     "execution_count": 18,
     "metadata": {},
     "output_type": "execute_result"
    }
   ],
   "source": [
    "\"\"\"Calculate the rolling means for the US_dollar column using a moving window of 30 days. \n",
    "Add the rolling means to a new column named rolling_mean\"\"\"\n",
    "\n",
    "euro_to_dollar['rolling_mean'] = euro_to_dollar['US_dollar'].rolling(30).mean()\n",
    "euro_to_dollar\n",
    "\n",
    "\n",
    "\n"
   ]
  },
  {
   "cell_type": "code",
   "execution_count": 19,
   "id": "23508170",
   "metadata": {
    "execution": {
     "iopub.execute_input": "2023-06-06T07:29:44.234813Z",
     "iopub.status.busy": "2023-06-06T07:29:44.234367Z",
     "iopub.status.idle": "2023-06-06T07:29:44.629607Z",
     "shell.execute_reply": "2023-06-06T07:29:44.628031Z"
    },
    "papermill": {
     "duration": 0.416646,
     "end_time": "2023-06-06T07:29:44.632429",
     "exception": false,
     "start_time": "2023-06-06T07:29:44.215783",
     "status": "completed"
    },
    "tags": []
   },
   "outputs": [
    {
     "data": {
      "image/png": "[encoded data removed]",
      "text/plain": [
       "<Figure size 640x480 with 1 Axes>"
      ]
     },
     "metadata": {},
     "output_type": "display_data"
    }
   ],
   "source": [
    "plt.plot(euro_to_dollar['Time'], euro_to_dollar['rolling_mean'])\n",
    "plt.title('Rolling window 30')\n",
    "plt.show()"
   ]
  },
  {
   "cell_type": "code",
   "execution_count": 20,
   "id": "e2732757",
   "metadata": {
    "execution": {
     "iopub.execute_input": "2023-06-06T07:29:44.669183Z",
     "iopub.status.busy": "2023-06-06T07:29:44.668806Z",
     "iopub.status.idle": "2023-06-06T07:29:44.685564Z",
     "shell.execute_reply": "2023-06-06T07:29:44.684407Z"
    },
    "papermill": {
     "duration": 0.03791,
     "end_time": "2023-06-06T07:29:44.688033",
     "exception": false,
     "start_time": "2023-06-06T07:29:44.650123",
     "status": "completed"
    },
    "tags": []
   },
   "outputs": [
    {
     "data": {
      "text/html": [
       "<div>\n",
       "<style scoped>\n",
       "    .dataframe tbody tr th:only-of-type {\n",
       "        vertical-align: middle;\n",
       "    }\n",
       "\n",
       "    .dataframe tbody tr th {\n",
       "        vertical-align: top;\n",
       "    }\n",
       "\n",
       "    .dataframe thead th {\n",
       "        text-align: right;\n",
       "    }\n",
       "</style>\n",
       "<table border=\"1\" class=\"dataframe\">\n",
       "  <thead>\n",
       "    <tr style=\"text-align: right;\">\n",
       "      <th></th>\n",
       "      <th>Time</th>\n",
       "      <th>US_dollar</th>\n",
       "      <th>rolling_mean</th>\n",
       "    </tr>\n",
       "  </thead>\n",
       "  <tbody>\n",
       "    <tr>\n",
       "      <th>0</th>\n",
       "      <td>1999-01-04</td>\n",
       "      <td>1.1789</td>\n",
       "      <td>NaN</td>\n",
       "    </tr>\n",
       "    <tr>\n",
       "      <th>1</th>\n",
       "      <td>1999-01-05</td>\n",
       "      <td>1.1790</td>\n",
       "      <td>NaN</td>\n",
       "    </tr>\n",
       "    <tr>\n",
       "      <th>2</th>\n",
       "      <td>1999-01-06</td>\n",
       "      <td>1.1743</td>\n",
       "      <td>NaN</td>\n",
       "    </tr>\n",
       "    <tr>\n",
       "      <th>3</th>\n",
       "      <td>1999-01-07</td>\n",
       "      <td>1.1632</td>\n",
       "      <td>NaN</td>\n",
       "    </tr>\n",
       "    <tr>\n",
       "      <th>4</th>\n",
       "      <td>1999-01-08</td>\n",
       "      <td>1.1659</td>\n",
       "      <td>NaN</td>\n",
       "    </tr>\n",
       "    <tr>\n",
       "      <th>...</th>\n",
       "      <td>...</td>\n",
       "      <td>...</td>\n",
       "      <td>...</td>\n",
       "    </tr>\n",
       "    <tr>\n",
       "      <th>6306</th>\n",
       "      <td>2023-05-22</td>\n",
       "      <td>1.0822</td>\n",
       "      <td>1.095337</td>\n",
       "    </tr>\n",
       "    <tr>\n",
       "      <th>6307</th>\n",
       "      <td>2023-05-23</td>\n",
       "      <td>1.0779</td>\n",
       "      <td>1.094883</td>\n",
       "    </tr>\n",
       "    <tr>\n",
       "      <th>6308</th>\n",
       "      <td>2023-05-24</td>\n",
       "      <td>1.0785</td>\n",
       "      <td>1.094483</td>\n",
       "    </tr>\n",
       "    <tr>\n",
       "      <th>6309</th>\n",
       "      <td>2023-05-25</td>\n",
       "      <td>1.0735</td>\n",
       "      <td>1.093860</td>\n",
       "    </tr>\n",
       "    <tr>\n",
       "      <th>6310</th>\n",
       "      <td>2023-05-26</td>\n",
       "      <td>1.0751</td>\n",
       "      <td>1.092980</td>\n",
       "    </tr>\n",
       "  </tbody>\n",
       "</table>\n",
       "<p>6249 rows × 3 columns</p>\n",
       "</div>"
      ],
      "text/plain": [
       "           Time  US_dollar  rolling_mean\n",
       "0    1999-01-04     1.1789           NaN\n",
       "1    1999-01-05     1.1790           NaN\n",
       "2    1999-01-06     1.1743           NaN\n",
       "3    1999-01-07     1.1632           NaN\n",
       "4    1999-01-08     1.1659           NaN\n",
       "...         ...        ...           ...\n",
       "6306 2023-05-22     1.0822      1.095337\n",
       "6307 2023-05-23     1.0779      1.094883\n",
       "6308 2023-05-24     1.0785      1.094483\n",
       "6309 2023-05-25     1.0735      1.093860\n",
       "6310 2023-05-26     1.0751      1.092980\n",
       "\n",
       "[6249 rows x 3 columns]"
      ]
     },
     "execution_count": 20,
     "metadata": {},
     "output_type": "execute_result"
    }
   ],
   "source": [
    "euro_to_dollar"
   ]
  },
  {
   "cell_type": "code",
   "execution_count": 21,
   "id": "e1e8fa20",
   "metadata": {
    "execution": {
     "iopub.execute_input": "2023-06-06T07:29:44.725856Z",
     "iopub.status.busy": "2023-06-06T07:29:44.725448Z",
     "iopub.status.idle": "2023-06-06T07:29:44.737612Z",
     "shell.execute_reply": "2023-06-06T07:29:44.736644Z"
    },
    "papermill": {
     "duration": 0.034147,
     "end_time": "2023-06-06T07:29:44.740179",
     "exception": false,
     "start_time": "2023-06-06T07:29:44.706032",
     "status": "completed"
    },
    "tags": []
   },
   "outputs": [],
   "source": [
    "before_financial_crisis = euro_to_dollar.copy(\n",
    "                   )[euro_to_dollar['Time'].dt.year <= 2019]\n",
    "                   \n",
    "\n",
    "after_financial_crisis_2020 = euro_to_dollar.copy(\n",
    "                   )[euro_to_dollar.Time.dt.year >= 2021 ]\n",
    "                      \n",
    "                   "
   ]
  },
  {
   "cell_type": "code",
   "execution_count": 22,
   "id": "ee40c49e",
   "metadata": {
    "execution": {
     "iopub.execute_input": "2023-06-06T07:29:44.778341Z",
     "iopub.status.busy": "2023-06-06T07:29:44.777587Z",
     "iopub.status.idle": "2023-06-06T07:29:44.791655Z",
     "shell.execute_reply": "2023-06-06T07:29:44.790763Z"
    },
    "papermill": {
     "duration": 0.03602,
     "end_time": "2023-06-06T07:29:44.794191",
     "exception": false,
     "start_time": "2023-06-06T07:29:44.758171",
     "status": "completed"
    },
    "tags": []
   },
   "outputs": [
    {
     "data": {
      "text/html": [
       "<div>\n",
       "<style scoped>\n",
       "    .dataframe tbody tr th:only-of-type {\n",
       "        vertical-align: middle;\n",
       "    }\n",
       "\n",
       "    .dataframe tbody tr th {\n",
       "        vertical-align: top;\n",
       "    }\n",
       "\n",
       "    .dataframe thead th {\n",
       "        text-align: right;\n",
       "    }\n",
       "</style>\n",
       "<table border=\"1\" class=\"dataframe\">\n",
       "  <thead>\n",
       "    <tr style=\"text-align: right;\">\n",
       "      <th></th>\n",
       "      <th>Time</th>\n",
       "      <th>US_dollar</th>\n",
       "      <th>rolling_mean</th>\n",
       "    </tr>\n",
       "  </thead>\n",
       "  <tbody>\n",
       "    <tr>\n",
       "      <th>0</th>\n",
       "      <td>1999-01-04</td>\n",
       "      <td>1.1789</td>\n",
       "      <td>NaN</td>\n",
       "    </tr>\n",
       "    <tr>\n",
       "      <th>1</th>\n",
       "      <td>1999-01-05</td>\n",
       "      <td>1.1790</td>\n",
       "      <td>NaN</td>\n",
       "    </tr>\n",
       "    <tr>\n",
       "      <th>2</th>\n",
       "      <td>1999-01-06</td>\n",
       "      <td>1.1743</td>\n",
       "      <td>NaN</td>\n",
       "    </tr>\n",
       "    <tr>\n",
       "      <th>3</th>\n",
       "      <td>1999-01-07</td>\n",
       "      <td>1.1632</td>\n",
       "      <td>NaN</td>\n",
       "    </tr>\n",
       "    <tr>\n",
       "      <th>4</th>\n",
       "      <td>1999-01-08</td>\n",
       "      <td>1.1659</td>\n",
       "      <td>NaN</td>\n",
       "    </tr>\n",
       "    <tr>\n",
       "      <th>...</th>\n",
       "      <td>...</td>\n",
       "      <td>...</td>\n",
       "      <td>...</td>\n",
       "    </tr>\n",
       "    <tr>\n",
       "      <th>5432</th>\n",
       "      <td>2019-12-23</td>\n",
       "      <td>1.1075</td>\n",
       "      <td>1.106783</td>\n",
       "    </tr>\n",
       "    <tr>\n",
       "      <th>5433</th>\n",
       "      <td>2019-12-24</td>\n",
       "      <td>1.1080</td>\n",
       "      <td>1.107000</td>\n",
       "    </tr>\n",
       "    <tr>\n",
       "      <th>5434</th>\n",
       "      <td>2019-12-27</td>\n",
       "      <td>1.1153</td>\n",
       "      <td>1.107490</td>\n",
       "    </tr>\n",
       "    <tr>\n",
       "      <th>5435</th>\n",
       "      <td>2019-12-30</td>\n",
       "      <td>1.1189</td>\n",
       "      <td>1.108130</td>\n",
       "    </tr>\n",
       "    <tr>\n",
       "      <th>5436</th>\n",
       "      <td>2019-12-31</td>\n",
       "      <td>1.1234</td>\n",
       "      <td>1.108797</td>\n",
       "    </tr>\n",
       "  </tbody>\n",
       "</table>\n",
       "<p>5375 rows × 3 columns</p>\n",
       "</div>"
      ],
      "text/plain": [
       "           Time  US_dollar  rolling_mean\n",
       "0    1999-01-04     1.1789           NaN\n",
       "1    1999-01-05     1.1790           NaN\n",
       "2    1999-01-06     1.1743           NaN\n",
       "3    1999-01-07     1.1632           NaN\n",
       "4    1999-01-08     1.1659           NaN\n",
       "...         ...        ...           ...\n",
       "5432 2019-12-23     1.1075      1.106783\n",
       "5433 2019-12-24     1.1080      1.107000\n",
       "5434 2019-12-27     1.1153      1.107490\n",
       "5435 2019-12-30     1.1189      1.108130\n",
       "5436 2019-12-31     1.1234      1.108797\n",
       "\n",
       "[5375 rows x 3 columns]"
      ]
     },
     "execution_count": 22,
     "metadata": {},
     "output_type": "execute_result"
    }
   ],
   "source": [
    "before_financial_crisis\n"
   ]
  },
  {
   "cell_type": "code",
   "execution_count": 23,
   "id": "8c761762",
   "metadata": {
    "execution": {
     "iopub.execute_input": "2023-06-06T07:29:44.833103Z",
     "iopub.status.busy": "2023-06-06T07:29:44.832157Z",
     "iopub.status.idle": "2023-06-06T07:29:45.225948Z",
     "shell.execute_reply": "2023-06-06T07:29:45.224562Z"
    },
    "papermill": {
     "duration": 0.416009,
     "end_time": "2023-06-06T07:29:45.228573",
     "exception": false,
     "start_time": "2023-06-06T07:29:44.812564",
     "status": "completed"
    },
    "tags": []
   },
   "outputs": [
    {
     "data": {
      "image/png": "[encoded data removed]",
      "text/plain": [
       "<Figure size 640x480 with 1 Axes>"
      ]
     },
     "metadata": {},
     "output_type": "display_data"
    }
   ],
   "source": [
    "plt.plot(before_financial_crisis['Time'],before_financial_crisis['rolling_mean'],color = 'g')\n",
    "plt.title('before Pandemic euro to dollar exchange rate')\n",
    "\n",
    "\n",
    "plt.show()"
   ]
  },
  {
   "cell_type": "code",
   "execution_count": 24,
   "id": "4a4f0fdd",
   "metadata": {
    "execution": {
     "iopub.execute_input": "2023-06-06T07:29:45.269633Z",
     "iopub.status.busy": "2023-06-06T07:29:45.269217Z",
     "iopub.status.idle": "2023-06-06T07:29:45.680184Z",
     "shell.execute_reply": "2023-06-06T07:29:45.678983Z"
    },
    "papermill": {
     "duration": 0.434922,
     "end_time": "2023-06-06T07:29:45.682793",
     "exception": false,
     "start_time": "2023-06-06T07:29:45.247871",
     "status": "completed"
    },
    "tags": []
   },
   "outputs": [
    {
     "data": {
      "image/png": "[encoded data removed]",
      "text/plain": [
       "<Figure size 640x480 with 1 Axes>"
      ]
     },
     "metadata": {},
     "output_type": "display_data"
    }
   ],
   "source": [
    "plt.plot(after_financial_crisis_2020['Time'],after_financial_crisis_2020['rolling_mean'],color = 'b')\n",
    "plt.title('after Pandemic euro to dollar rate fall')\n",
    "plt.show()"
   ]
  },
  {
   "cell_type": "code",
   "execution_count": 25,
   "id": "24642b9b",
   "metadata": {
    "execution": {
     "iopub.execute_input": "2023-06-06T07:29:45.724259Z",
     "iopub.status.busy": "2023-06-06T07:29:45.723819Z",
     "iopub.status.idle": "2023-06-06T07:29:45.731060Z",
     "shell.execute_reply": "2023-06-06T07:29:45.729976Z"
    },
    "papermill": {
     "duration": 0.031339,
     "end_time": "2023-06-06T07:29:45.733904",
     "exception": false,
     "start_time": "2023-06-06T07:29:45.702565",
     "status": "completed"
    },
    "tags": []
   },
   "outputs": [],
   "source": [
    "current_euroRate_2023 = euro_to_dollar[euro_to_dollar['Time'].dt.year >= 2023]"
   ]
  },
  {
   "cell_type": "code",
   "execution_count": 26,
   "id": "5e5f16d2",
   "metadata": {
    "execution": {
     "iopub.execute_input": "2023-06-06T07:29:45.775437Z",
     "iopub.status.busy": "2023-06-06T07:29:45.774994Z",
     "iopub.status.idle": "2023-06-06T07:29:45.791562Z",
     "shell.execute_reply": "2023-06-06T07:29:45.790298Z"
    },
    "papermill": {
     "duration": 0.040114,
     "end_time": "2023-06-06T07:29:45.793940",
     "exception": false,
     "start_time": "2023-06-06T07:29:45.753826",
     "status": "completed"
    },
    "tags": []
   },
   "outputs": [
    {
     "data": {
      "text/html": [
       "<div>\n",
       "<style scoped>\n",
       "    .dataframe tbody tr th:only-of-type {\n",
       "        vertical-align: middle;\n",
       "    }\n",
       "\n",
       "    .dataframe tbody tr th {\n",
       "        vertical-align: top;\n",
       "    }\n",
       "\n",
       "    .dataframe thead th {\n",
       "        text-align: right;\n",
       "    }\n",
       "</style>\n",
       "<table border=\"1\" class=\"dataframe\">\n",
       "  <thead>\n",
       "    <tr style=\"text-align: right;\">\n",
       "      <th></th>\n",
       "      <th>Time</th>\n",
       "      <th>US_dollar</th>\n",
       "      <th>rolling_mean</th>\n",
       "    </tr>\n",
       "  </thead>\n",
       "  <tbody>\n",
       "    <tr>\n",
       "      <th>6209</th>\n",
       "      <td>2023-01-02</td>\n",
       "      <td>1.0683</td>\n",
       "      <td>1.052953</td>\n",
       "    </tr>\n",
       "    <tr>\n",
       "      <th>6210</th>\n",
       "      <td>2023-01-03</td>\n",
       "      <td>1.0545</td>\n",
       "      <td>1.053950</td>\n",
       "    </tr>\n",
       "    <tr>\n",
       "      <th>6211</th>\n",
       "      <td>2023-01-04</td>\n",
       "      <td>1.0599</td>\n",
       "      <td>1.055033</td>\n",
       "    </tr>\n",
       "    <tr>\n",
       "      <th>6212</th>\n",
       "      <td>2023-01-05</td>\n",
       "      <td>1.0601</td>\n",
       "      <td>1.055953</td>\n",
       "    </tr>\n",
       "    <tr>\n",
       "      <th>6213</th>\n",
       "      <td>2023-01-06</td>\n",
       "      <td>1.0500</td>\n",
       "      <td>1.056243</td>\n",
       "    </tr>\n",
       "    <tr>\n",
       "      <th>...</th>\n",
       "      <td>...</td>\n",
       "      <td>...</td>\n",
       "      <td>...</td>\n",
       "    </tr>\n",
       "    <tr>\n",
       "      <th>6306</th>\n",
       "      <td>2023-05-22</td>\n",
       "      <td>1.0822</td>\n",
       "      <td>1.095337</td>\n",
       "    </tr>\n",
       "    <tr>\n",
       "      <th>6307</th>\n",
       "      <td>2023-05-23</td>\n",
       "      <td>1.0779</td>\n",
       "      <td>1.094883</td>\n",
       "    </tr>\n",
       "    <tr>\n",
       "      <th>6308</th>\n",
       "      <td>2023-05-24</td>\n",
       "      <td>1.0785</td>\n",
       "      <td>1.094483</td>\n",
       "    </tr>\n",
       "    <tr>\n",
       "      <th>6309</th>\n",
       "      <td>2023-05-25</td>\n",
       "      <td>1.0735</td>\n",
       "      <td>1.093860</td>\n",
       "    </tr>\n",
       "    <tr>\n",
       "      <th>6310</th>\n",
       "      <td>2023-05-26</td>\n",
       "      <td>1.0751</td>\n",
       "      <td>1.092980</td>\n",
       "    </tr>\n",
       "  </tbody>\n",
       "</table>\n",
       "<p>102 rows × 3 columns</p>\n",
       "</div>"
      ],
      "text/plain": [
       "           Time  US_dollar  rolling_mean\n",
       "6209 2023-01-02     1.0683      1.052953\n",
       "6210 2023-01-03     1.0545      1.053950\n",
       "6211 2023-01-04     1.0599      1.055033\n",
       "6212 2023-01-05     1.0601      1.055953\n",
       "6213 2023-01-06     1.0500      1.056243\n",
       "...         ...        ...           ...\n",
       "6306 2023-05-22     1.0822      1.095337\n",
       "6307 2023-05-23     1.0779      1.094883\n",
       "6308 2023-05-24     1.0785      1.094483\n",
       "6309 2023-05-25     1.0735      1.093860\n",
       "6310 2023-05-26     1.0751      1.092980\n",
       "\n",
       "[102 rows x 3 columns]"
      ]
     },
     "execution_count": 26,
     "metadata": {},
     "output_type": "execute_result"
    }
   ],
   "source": [
    "current_euroRate_2023"
   ]
  },
  {
   "cell_type": "code",
   "execution_count": 27,
   "id": "49f85dbb",
   "metadata": {
    "execution": {
     "iopub.execute_input": "2023-06-06T07:29:45.836083Z",
     "iopub.status.busy": "2023-06-06T07:29:45.835028Z",
     "iopub.status.idle": "2023-06-06T07:29:46.293148Z",
     "shell.execute_reply": "2023-06-06T07:29:46.292008Z"
    },
    "papermill": {
     "duration": 0.481777,
     "end_time": "2023-06-06T07:29:46.295636",
     "exception": false,
     "start_time": "2023-06-06T07:29:45.813859",
     "status": "completed"
    },
    "tags": []
   },
   "outputs": [
    {
     "data": {
      "text/plain": [
       "[<matplotlib.lines.Line2D at 0x7daf97acc4c0>]"
      ]
     },
     "execution_count": 27,
     "metadata": {},
     "output_type": "execute_result"
    },
    {
     "data": {
      "image/png": "[encoded data removed]",
      "text/plain": [
       "<Figure size 640x480 with 1 Axes>"
      ]
     },
     "metadata": {},
     "output_type": "display_data"
    }
   ],
   "source": [
    "plt.step(current_euroRate_2023['Time'],current_euroRate_2023['rolling_mean'],where='post')"
   ]
  },
  {
   "cell_type": "code",
   "execution_count": 28,
   "id": "6852c1cc",
   "metadata": {
    "execution": {
     "iopub.execute_input": "2023-06-06T07:29:46.339881Z",
     "iopub.status.busy": "2023-06-06T07:29:46.338541Z",
     "iopub.status.idle": "2023-06-06T07:29:46.344849Z",
     "shell.execute_reply": "2023-06-06T07:29:46.344019Z"
    },
    "papermill": {
     "duration": 0.030449,
     "end_time": "2023-06-06T07:29:46.347091",
     "exception": false,
     "start_time": "2023-06-06T07:29:46.316642",
     "status": "completed"
    },
    "tags": []
   },
   "outputs": [],
   "source": [
    "exchange_data_Chinese = exchange_data[['Time','[Chinese yuan renminbi ]']]"
   ]
  },
  {
   "cell_type": "code",
   "execution_count": 29,
   "id": "0377ee19",
   "metadata": {
    "execution": {
     "iopub.execute_input": "2023-06-06T07:29:46.390308Z",
     "iopub.status.busy": "2023-06-06T07:29:46.389299Z",
     "iopub.status.idle": "2023-06-06T07:29:46.396502Z",
     "shell.execute_reply": "2023-06-06T07:29:46.395587Z"
    },
    "papermill": {
     "duration": 0.031486,
     "end_time": "2023-06-06T07:29:46.398919",
     "exception": false,
     "start_time": "2023-06-06T07:29:46.367433",
     "status": "completed"
    },
    "tags": []
   },
   "outputs": [],
   "source": [
    "exchange_data_Chinese = exchange_data_Chinese[exchange_data_Chinese['[Chinese yuan renminbi ]'] != '-']"
   ]
  },
  {
   "cell_type": "code",
   "execution_count": 30,
   "id": "6a0503a3",
   "metadata": {
    "execution": {
     "iopub.execute_input": "2023-06-06T07:29:46.442452Z",
     "iopub.status.busy": "2023-06-06T07:29:46.441240Z",
     "iopub.status.idle": "2023-06-06T07:29:46.448727Z",
     "shell.execute_reply": "2023-06-06T07:29:46.447600Z"
    },
    "papermill": {
     "duration": 0.031922,
     "end_time": "2023-06-06T07:29:46.451054",
     "exception": false,
     "start_time": "2023-06-06T07:29:46.419132",
     "status": "completed"
    },
    "tags": []
   },
   "outputs": [],
   "source": [
    "\n",
    "exchange_data_Chinese['[Chinese yuan renminbi ]' ] = exchange_data_Chinese['[Chinese yuan renminbi ]' ].astype(float)"
   ]
  },
  {
   "cell_type": "code",
   "execution_count": 31,
   "id": "2ba97900",
   "metadata": {
    "execution": {
     "iopub.execute_input": "2023-06-06T07:29:46.494519Z",
     "iopub.status.busy": "2023-06-06T07:29:46.494055Z",
     "iopub.status.idle": "2023-06-06T07:29:46.501154Z",
     "shell.execute_reply": "2023-06-06T07:29:46.500045Z"
    },
    "papermill": {
     "duration": 0.032012,
     "end_time": "2023-06-06T07:29:46.503657",
     "exception": false,
     "start_time": "2023-06-06T07:29:46.471645",
     "status": "completed"
    },
    "tags": []
   },
   "outputs": [],
   "source": [
    "exchange_data_Chinese['rolling_mean50'] = exchange_data_Chinese['[Chinese yuan renminbi ]'].rolling(50).mean()"
   ]
  },
  {
   "cell_type": "code",
   "execution_count": 32,
   "id": "4a2c9e98",
   "metadata": {
    "execution": {
     "iopub.execute_input": "2023-06-06T07:29:46.547643Z",
     "iopub.status.busy": "2023-06-06T07:29:46.547193Z",
     "iopub.status.idle": "2023-06-06T07:29:46.559825Z",
     "shell.execute_reply": "2023-06-06T07:29:46.558409Z"
    },
    "papermill": {
     "duration": 0.036992,
     "end_time": "2023-06-06T07:29:46.562473",
     "exception": false,
     "start_time": "2023-06-06T07:29:46.525481",
     "status": "completed"
    },
    "tags": []
   },
   "outputs": [
    {
     "name": "stderr",
     "output_type": "stream",
     "text": [
      "/tmp/ipykernel_20/3631390929.py:1: UserWarning: Boolean Series key will be reindexed to match DataFrame index.\n",
      "  exchng_ChineseYen_Befor2020 = exchange_data_Chinese.copy()[exchange_data['Time'].dt.year < 2020]\n"
     ]
    }
   ],
   "source": [
    "exchng_ChineseYen_Befor2020 = exchange_data_Chinese.copy()[exchange_data['Time'].dt.year < 2020]\n",
    "\n",
    "exchng_ChineseYen_After2020 = exchange_data_Chinese.copy()[exchange_data_Chinese['Time'].dt.year >= 2020  ]"
   ]
  },
  {
   "cell_type": "code",
   "execution_count": 33,
   "id": "8ca4a6f3",
   "metadata": {
    "execution": {
     "iopub.execute_input": "2023-06-06T07:29:46.608842Z",
     "iopub.status.busy": "2023-06-06T07:29:46.608067Z",
     "iopub.status.idle": "2023-06-06T07:29:47.034298Z",
     "shell.execute_reply": "2023-06-06T07:29:47.033457Z"
    },
    "papermill": {
     "duration": 0.452058,
     "end_time": "2023-06-06T07:29:47.036530",
     "exception": false,
     "start_time": "2023-06-06T07:29:46.584472",
     "status": "completed"
    },
    "tags": []
   },
   "outputs": [
    {
     "data": {
      "image/png": "[encoded data removed]",
      "text/plain": [
       "<Figure size 640x480 with 1 Axes>"
      ]
     },
     "metadata": {},
     "output_type": "display_data"
    }
   ],
   "source": [
    "\n",
    "import matplotlib.style as style\n",
    "style.use('fivethirtyeight')\n",
    "\n",
    "colors = ['#008fd5', '#fc4f30']\n",
    "\n",
    "# Create the plot\n",
    "fig, ax = plt.subplots()\n",
    "ax.plot(exchng_ChineseYen_Befor2020['Time'], exchng_ChineseYen_Befor2020['rolling_mean50'], color='#A6D785')\n",
    "ax.plot(exchng_ChineseYen_After2020['Time'], exchng_ChineseYen_After2020['rolling_mean50'], color='#e23d28',linewidth = 1)\n",
    "\n",
    "\n",
    "# Customize the plot\n",
    "\n",
    "ax.set_title('Chinese yen exchange rate ')\n",
    "\n",
    "# Set the background color\n",
    "fig.patch.set_facecolor('#f6f6f6')\n",
    "ax.set_facecolor('#f6f6f6')\n",
    "\n",
    "# Set the grid style\n",
    "ax.grid(color='white', linestyle='-', linewidth=0.5)\n",
    "ax.set_axisbelow(True)\n",
    "\n",
    "# Remove spines\n",
    "ax.spines['left'].set_visible(False)\n",
    "ax.spines['right'].set_visible(False)\n",
    "ax.spines['top'].set_visible(False)\n",
    "\n",
    "# Adjust tick parameters\n",
    "ax.tick_params(axis='both', which='both', length=0)\n",
    "ax.xaxis.set_tick_params(pad=10)\n",
    "ax.yaxis.set_tick_params(pad=5)\n",
    "\n",
    "# Adjust label alignment\n",
    "ax.xaxis.labelpad = 10\n",
    "ax.yaxis.labelpad = 10\n",
    "\n",
    "# Show the plot\n",
    "plt.tight_layout()\n",
    "\n",
    "# Display the plot\n",
    "plt.show()\n"
   ]
  },
  {
   "cell_type": "markdown",
   "id": "75b7f090",
   "metadata": {
    "papermill": {
     "duration": 0.020958,
     "end_time": "2023-06-06T07:29:47.079055",
     "exception": false,
     "start_time": "2023-06-06T07:29:47.058097",
     "status": "completed"
    },
    "tags": []
   },
   "source": [
    "2000 -- The yuan is allowed to close slightly outside the firm end of its 30-basis point band, which is later widened by another 10 points to 8.2760-8.2800 against the dollar.\n",
    "\n",
    "2001, December -- China joins the World Trade Organisation and pledges to adjust its currency regime gradually.\n",
    "\n",
    "2003 -- International pressure begins mounting for the yuan to appreciate to help balance global trade, including China’s huge trade surplus with the United States and the rest of the world.\n",
    "\n",
    "2004, Dec. 8 -- Premier Wen Jiabao says that China would move gradually to a flexible currency regime.\n",
    "\n",
    "2005, July 21 -- China revalues the yuan by 2.1 percent and revises the rules governing its currency system, saying it had shifted to “a managed floating exchange rate based on market supply and demand with reference to a basket of currencies”.\n",
    "\n",
    "2008, July -- China’s central bank effectively pegs the yuan against the dollar close to 6.83 to protect China’s economy as it confronted a slowdown due to the global financial crisis.\n",
    "\n",
    "2009, June -- China said it was going to resume reforming the yuan exchange rate and increase currency flexibility after keeping the yuan tightly linked to the U.S. dollar for nearly two years during and after the global financial crisis.\n",
    "\n"
   ]
  },
  {
   "cell_type": "code",
   "execution_count": 34,
   "id": "0bad8a08",
   "metadata": {
    "execution": {
     "iopub.execute_input": "2023-06-06T07:29:47.130442Z",
     "iopub.status.busy": "2023-06-06T07:29:47.129671Z",
     "iopub.status.idle": "2023-06-06T07:29:47.147091Z",
     "shell.execute_reply": "2023-06-06T07:29:47.145949Z"
    },
    "papermill": {
     "duration": 0.049312,
     "end_time": "2023-06-06T07:29:47.150297",
     "exception": false,
     "start_time": "2023-06-06T07:29:47.100985",
     "status": "completed"
    },
    "tags": []
   },
   "outputs": [
    {
     "data": {
      "text/plain": [
       "-           62\n",
       "39.6750      4\n",
       "35.2250      4\n",
       "43.9800      4\n",
       "40.6500      4\n",
       "            ..\n",
       "34.7170      1\n",
       "34.6410      1\n",
       "34.5840      1\n",
       "34.6900      1\n",
       "117.2010     1\n",
       "Name: Russian_rouble, Length: 5705, dtype: int64"
      ]
     },
     "execution_count": 34,
     "metadata": {},
     "output_type": "execute_result"
    }
   ],
   "source": [
    "# Renaming ['Russian rouble'] column into Russian_rouble\n",
    "\n",
    "exchange_data.rename(columns={'[Russian rouble ]': 'Russian_rouble',\n",
    "                        \n",
    "                               }, inplace=True)\n",
    "\n",
    "\n",
    "exchange_data['Russian_rouble'].value_counts()\n"
   ]
  },
  {
   "cell_type": "code",
   "execution_count": 35,
   "id": "63b0a46c",
   "metadata": {
    "execution": {
     "iopub.execute_input": "2023-06-06T07:29:47.206809Z",
     "iopub.status.busy": "2023-06-06T07:29:47.205819Z",
     "iopub.status.idle": "2023-06-06T07:29:47.213571Z",
     "shell.execute_reply": "2023-06-06T07:29:47.212560Z"
    },
    "papermill": {
     "duration": 0.043303,
     "end_time": "2023-06-06T07:29:47.216104",
     "exception": false,
     "start_time": "2023-06-06T07:29:47.172801",
     "status": "completed"
    },
    "tags": []
   },
   "outputs": [],
   "source": [
    "euro_Russian_rate = exchange_data[['Time','Russian_rouble']].copy()\n",
    "\n"
   ]
  },
  {
   "cell_type": "code",
   "execution_count": 36,
   "id": "8e6123ca",
   "metadata": {
    "execution": {
     "iopub.execute_input": "2023-06-06T07:29:47.261453Z",
     "iopub.status.busy": "2023-06-06T07:29:47.260734Z",
     "iopub.status.idle": "2023-06-06T07:29:47.270930Z",
     "shell.execute_reply": "2023-06-06T07:29:47.269575Z"
    },
    "papermill": {
     "duration": 0.036289,
     "end_time": "2023-06-06T07:29:47.273917",
     "exception": false,
     "start_time": "2023-06-06T07:29:47.237628",
     "status": "completed"
    },
    "tags": []
   },
   "outputs": [],
   "source": [
    "euro_Russian_rate = euro_Russian_rate[euro_Russian_rate['Russian_rouble'] != '-']\n",
    "\n",
    "\n",
    "euro_Russian_rate['Russian_rouble'] = euro_Russian_rate['Russian_rouble'].astype(float)\n"
   ]
  },
  {
   "cell_type": "code",
   "execution_count": 37,
   "id": "836daa26",
   "metadata": {
    "execution": {
     "iopub.execute_input": "2023-06-06T07:29:47.320103Z",
     "iopub.status.busy": "2023-06-06T07:29:47.319313Z",
     "iopub.status.idle": "2023-06-06T07:29:47.329833Z",
     "shell.execute_reply": "2023-06-06T07:29:47.328751Z"
    },
    "papermill": {
     "duration": 0.037346,
     "end_time": "2023-06-06T07:29:47.333357",
     "exception": false,
     "start_time": "2023-06-06T07:29:47.296011",
     "status": "completed"
    },
    "tags": []
   },
   "outputs": [
    {
     "name": "stderr",
     "output_type": "stream",
     "text": [
      "/tmp/ipykernel_20/1104104892.py:1: FutureWarning: Dropping of nuisance columns in rolling operations is deprecated; in a future version this will raise TypeError. Select only valid columns before calling the operation. Dropped columns were Index(['Time'], dtype='object')\n",
      "  euro_Russian_rate['rolling_mean'] = euro_Russian_rate.rolling(50).mean()\n"
     ]
    }
   ],
   "source": [
    "euro_Russian_rate['rolling_mean'] = euro_Russian_rate.rolling(50).mean()"
   ]
  },
  {
   "cell_type": "code",
   "execution_count": 38,
   "id": "b95b7338",
   "metadata": {
    "execution": {
     "iopub.execute_input": "2023-06-06T07:29:47.380808Z",
     "iopub.status.busy": "2023-06-06T07:29:47.380434Z",
     "iopub.status.idle": "2023-06-06T07:29:47.396999Z",
     "shell.execute_reply": "2023-06-06T07:29:47.395783Z"
    },
    "papermill": {
     "duration": 0.043074,
     "end_time": "2023-06-06T07:29:47.400000",
     "exception": false,
     "start_time": "2023-06-06T07:29:47.356926",
     "status": "completed"
    },
    "tags": []
   },
   "outputs": [
    {
     "data": {
      "text/html": [
       "<div>\n",
       "<style scoped>\n",
       "    .dataframe tbody tr th:only-of-type {\n",
       "        vertical-align: middle;\n",
       "    }\n",
       "\n",
       "    .dataframe tbody tr th {\n",
       "        vertical-align: top;\n",
       "    }\n",
       "\n",
       "    .dataframe thead th {\n",
       "        text-align: right;\n",
       "    }\n",
       "</style>\n",
       "<table border=\"1\" class=\"dataframe\">\n",
       "  <thead>\n",
       "    <tr style=\"text-align: right;\">\n",
       "      <th></th>\n",
       "      <th>Time</th>\n",
       "      <th>Russian_rouble</th>\n",
       "      <th>rolling_mean</th>\n",
       "    </tr>\n",
       "  </thead>\n",
       "  <tbody>\n",
       "    <tr>\n",
       "      <th>0</th>\n",
       "      <td>1999-01-04</td>\n",
       "      <td>25.2875</td>\n",
       "      <td>NaN</td>\n",
       "    </tr>\n",
       "    <tr>\n",
       "      <th>1</th>\n",
       "      <td>1999-01-05</td>\n",
       "      <td>26.5876</td>\n",
       "      <td>NaN</td>\n",
       "    </tr>\n",
       "    <tr>\n",
       "      <th>2</th>\n",
       "      <td>1999-01-06</td>\n",
       "      <td>27.4315</td>\n",
       "      <td>NaN</td>\n",
       "    </tr>\n",
       "    <tr>\n",
       "      <th>3</th>\n",
       "      <td>1999-01-07</td>\n",
       "      <td>26.9876</td>\n",
       "      <td>NaN</td>\n",
       "    </tr>\n",
       "    <tr>\n",
       "      <th>4</th>\n",
       "      <td>1999-01-08</td>\n",
       "      <td>27.2075</td>\n",
       "      <td>NaN</td>\n",
       "    </tr>\n",
       "    <tr>\n",
       "      <th>...</th>\n",
       "      <td>...</td>\n",
       "      <td>...</td>\n",
       "      <td>...</td>\n",
       "    </tr>\n",
       "    <tr>\n",
       "      <th>6306</th>\n",
       "      <td>2023-05-22</td>\n",
       "      <td>NaN</td>\n",
       "      <td>NaN</td>\n",
       "    </tr>\n",
       "    <tr>\n",
       "      <th>6307</th>\n",
       "      <td>2023-05-23</td>\n",
       "      <td>NaN</td>\n",
       "      <td>NaN</td>\n",
       "    </tr>\n",
       "    <tr>\n",
       "      <th>6308</th>\n",
       "      <td>2023-05-24</td>\n",
       "      <td>NaN</td>\n",
       "      <td>NaN</td>\n",
       "    </tr>\n",
       "    <tr>\n",
       "      <th>6309</th>\n",
       "      <td>2023-05-25</td>\n",
       "      <td>NaN</td>\n",
       "      <td>NaN</td>\n",
       "    </tr>\n",
       "    <tr>\n",
       "      <th>6310</th>\n",
       "      <td>2023-05-26</td>\n",
       "      <td>NaN</td>\n",
       "      <td>NaN</td>\n",
       "    </tr>\n",
       "  </tbody>\n",
       "</table>\n",
       "<p>6249 rows × 3 columns</p>\n",
       "</div>"
      ],
      "text/plain": [
       "           Time  Russian_rouble  rolling_mean\n",
       "0    1999-01-04         25.2875           NaN\n",
       "1    1999-01-05         26.5876           NaN\n",
       "2    1999-01-06         27.4315           NaN\n",
       "3    1999-01-07         26.9876           NaN\n",
       "4    1999-01-08         27.2075           NaN\n",
       "...         ...             ...           ...\n",
       "6306 2023-05-22             NaN           NaN\n",
       "6307 2023-05-23             NaN           NaN\n",
       "6308 2023-05-24             NaN           NaN\n",
       "6309 2023-05-25             NaN           NaN\n",
       "6310 2023-05-26             NaN           NaN\n",
       "\n",
       "[6249 rows x 3 columns]"
      ]
     },
     "execution_count": 38,
     "metadata": {},
     "output_type": "execute_result"
    }
   ],
   "source": [
    "euro_Russian_rate"
   ]
  },
  {
   "cell_type": "code",
   "execution_count": 39,
   "id": "5d644fbc",
   "metadata": {
    "execution": {
     "iopub.execute_input": "2023-06-06T07:29:47.453461Z",
     "iopub.status.busy": "2023-06-06T07:29:47.452164Z",
     "iopub.status.idle": "2023-06-06T07:29:47.461863Z",
     "shell.execute_reply": "2023-06-06T07:29:47.460408Z"
    },
    "papermill": {
     "duration": 0.037296,
     "end_time": "2023-06-06T07:29:47.464517",
     "exception": false,
     "start_time": "2023-06-06T07:29:47.427221",
     "status": "completed"
    },
    "tags": []
   },
   "outputs": [
    {
     "data": {
      "text/plain": [
       "117.201"
      ]
     },
     "execution_count": 39,
     "metadata": {},
     "output_type": "execute_result"
    }
   ],
   "source": [
    "Russian_rouble_MAX = euro_Russian_rate['Russian_rouble'].max()\n",
    "Russian_rouble_MAX"
   ]
  },
  {
   "cell_type": "code",
   "execution_count": 40,
   "id": "48d42c5f",
   "metadata": {
    "execution": {
     "iopub.execute_input": "2023-06-06T07:29:47.518769Z",
     "iopub.status.busy": "2023-06-06T07:29:47.517728Z",
     "iopub.status.idle": "2023-06-06T07:29:47.526057Z",
     "shell.execute_reply": "2023-06-06T07:29:47.525165Z"
    },
    "papermill": {
     "duration": 0.040147,
     "end_time": "2023-06-06T07:29:47.528171",
     "exception": false,
     "start_time": "2023-06-06T07:29:47.488024",
     "status": "completed"
    },
    "tags": []
   },
   "outputs": [
    {
     "data": {
      "text/plain": [
       "23.1903"
      ]
     },
     "execution_count": 40,
     "metadata": {},
     "output_type": "execute_result"
    }
   ],
   "source": [
    "Russian_rouble_MIN =euro_Russian_rate['Russian_rouble'].min()\n",
    "Russian_rouble_MIN"
   ]
  },
  {
   "cell_type": "code",
   "execution_count": 41,
   "id": "5f0067c7",
   "metadata": {
    "execution": {
     "iopub.execute_input": "2023-06-06T07:29:47.579307Z",
     "iopub.status.busy": "2023-06-06T07:29:47.578333Z",
     "iopub.status.idle": "2023-06-06T07:29:47.920571Z",
     "shell.execute_reply": "2023-06-06T07:29:47.919620Z"
    },
    "papermill": {
     "duration": 0.369358,
     "end_time": "2023-06-06T07:29:47.923456",
     "exception": false,
     "start_time": "2023-06-06T07:29:47.554098",
     "status": "completed"
    },
    "tags": []
   },
   "outputs": [
    {
     "data": {
      "image/png": "[encoded data removed]",
      "text/plain": [
       "<Figure size 640x480 with 1 Axes>"
      ]
     },
     "metadata": {},
     "output_type": "display_data"
    }
   ],
   "source": [
    "plt.plot(euro_Russian_rate['Time'],euro_Russian_rate['rolling_mean'], color = 'g')\n",
    "\n",
    "plt.show()"
   ]
  },
  {
   "cell_type": "markdown",
   "id": "d2128f88",
   "metadata": {
    "papermill": {
     "duration": 0.024486,
     "end_time": "2023-06-06T07:29:47.971670",
     "exception": false,
     "start_time": "2023-06-06T07:29:47.947184",
     "status": "completed"
    },
    "tags": []
   },
   "source": [
    "In March 2022, one euro could increasingly buy fewer Russian rubles according to the EUR to RUB exchange rate history. \n",
    "Figures have somewhat recovered since. A value of 86.52 ruble per single euro as observed on June 04, 2023 resembled exchange rates found in the mid-2010s. Despite significant drops in 2015 and 2017, the rate grew on average until then. At the end of 2020, one euro could buy roughly 90 Russian rubles - a value that was over twice as high as it was in 2009. Noticeable is the large increase during 2020, amidst the coronavirus pandemic: in the space of three months, the exchange rate grew by roughly 13 Russian rubles. \n",
    "Like the euro, the USD to ruble value also declined in February and March 2022."
   ]
  },
  {
   "cell_type": "code",
   "execution_count": null,
   "id": "5a072f32",
   "metadata": {
    "papermill": {
     "duration": 0.022434,
     "end_time": "2023-06-06T07:29:48.017478",
     "exception": false,
     "start_time": "2023-06-06T07:29:47.995044",
     "status": "completed"
    },
    "tags": []
   },
   "outputs": [],
   "source": []
  }
 ],
 "metadata": {
  "kernelspec": {
   "display_name": "Python 3",
   "language": "python",
   "name": "python3"
  },
  "language_info": {
   "codemirror_mode": {
    "name": "ipython",
    "version": 3
   },
   "file_extension": ".py",
   "mimetype": "text/x-python",
   "name": "python",
   "nbconvert_exporter": "python",
   "pygments_lexer": "ipython3",
   "version": "3.10.10"
  },
  "papermill": {
   "default_parameters": {},
   "duration": 19.334792,
   "end_time": "2023-06-06T07:29:48.963316",
   "environment_variables": {},
   "exception": null,
   "input_path": "__notebook__.ipynb",
   "output_path": "__notebook__.ipynb",
   "parameters": {},
   "start_time": "2023-06-06T07:29:29.628524",
   "version": "2.4.0"
  }
 },
 "nbformat": 4,
 "nbformat_minor": 5
}
